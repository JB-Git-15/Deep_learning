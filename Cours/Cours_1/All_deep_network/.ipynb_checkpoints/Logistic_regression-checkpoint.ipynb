{
 "cells": [
  {
   "cell_type": "code",
   "execution_count": null,
   "metadata": {},
   "outputs": [],
   "source": [
    "# logistic regression"
   ]
  },
  {
   "cell_type": "code",
   "execution_count": 108,
   "metadata": {},
   "outputs": [],
   "source": [
    "import numpy as np\n",
    "import matplotlib.pyplot as plt\n",
    "import h5py\n",
    "import scipy\n",
    "from PIL import Image\n",
    "from scipy import ndimage\n",
    "#from lr_utils import load_dataset\n",
    "\n",
    "from sklearn.linear_model import LogisticRegressionCV\n",
    "\n",
    "\n",
    "%matplotlib inline"
   ]
  },
  {
   "cell_type": "code",
   "execution_count": 109,
   "metadata": {},
   "outputs": [],
   "source": [
    "def load_dataset():\n",
    "    train_dataset = h5py.File('datasets/train_catvnoncat.h5', \"r\")\n",
    "    train_set_x_orig = np.array(train_dataset[\"train_set_x\"][:]) # your train set features\n",
    "    train_set_y_orig = np.array(train_dataset[\"train_set_y\"][:]) # your train set labels\n",
    "\n",
    "    test_dataset = h5py.File('datasets/test_catvnoncat.h5', \"r\")\n",
    "    test_set_x_orig = np.array(test_dataset[\"test_set_x\"][:]) # your test set features\n",
    "    test_set_y_orig = np.array(test_dataset[\"test_set_y\"][:]) # your test set labels\n",
    "\n",
    "    classes = np.array(test_dataset[\"list_classes\"][:]) # the list of classes\n",
    "    \n",
    "    train_set_y_orig = train_set_y_orig.reshape((1, train_set_y_orig.shape[0]))\n",
    "    test_set_y_orig = test_set_y_orig.reshape((1, test_set_y_orig.shape[0]))\n",
    "    \n",
    "    return train_set_x_orig, train_set_y_orig, test_set_x_orig, test_set_y_orig, classes"
   ]
  },
  {
   "cell_type": "code",
   "execution_count": 110,
   "metadata": {},
   "outputs": [],
   "source": [
    "train_set_x_orig, train_set_y_orig, test_set_x_orig, test_set_y_orig, classes = load_dataset()"
   ]
  },
  {
   "cell_type": "code",
   "execution_count": 142,
   "metadata": {},
   "outputs": [],
   "source": [
    "# reshape and normalize the data\n",
    "X_train = np.reshape(train_set_x_orig, (train_set_x_orig.shape[1]*train_set_x_orig.shape[2]*train_set_x_orig.shape[3],-1))\n",
    "Y_train = train_set_y_orig\n",
    "X_train = X_train/255\n",
    "m1      = X_train.shape[1]\n",
    "\n",
    "X_test  = np.reshape(test_set_x_orig,(test_set_x_orig.shape[1]*test_set_x_orig.shape[2]*test_set_x_orig.shape[3],-1))\n",
    "X_test  = X_test/255\n",
    "m2      = X_test.shape[1]\n",
    "Y_test  = test_set_y_orig"
   ]
  },
  {
   "cell_type": "code",
   "execution_count": 112,
   "metadata": {},
   "outputs": [],
   "source": [
    "def Sigmoid(x):\n",
    "    return 1/(1+np.exp(-x))"
   ]
  },
  {
   "cell_type": "code",
   "execution_count": 95,
   "metadata": {},
   "outputs": [],
   "source": [
    "def Compute_cost(Y,A):\n",
    "    m = A.shape[1]\n",
    "    J = -np.mean((1-Y)*np.log(1-A) + Y*np.log(A), axis=1)   \n",
    "    \n",
    "    \n",
    "    return J"
   ]
  },
  {
   "cell_type": "code",
   "execution_count": 97,
   "metadata": {},
   "outputs": [],
   "source": [
    "def Init_parameters(X,y):\n",
    "    dim_x = X.shape[0]\n",
    "    \n",
    "    W = np.zeros((1,dim_x+1))\n",
    "    return W"
   ]
  },
  {
   "cell_type": "code",
   "execution_count": 98,
   "metadata": {},
   "outputs": [],
   "source": [
    "def Update_parameters(W,dW,alpha):\n",
    "    W = W -alpha*dW\n",
    "    return W"
   ]
  },
  {
   "cell_type": "code",
   "execution_count": 143,
   "metadata": {},
   "outputs": [],
   "source": [
    "def Forward_Pass(W,X):\n",
    "    m      = X.shape[1]\n",
    "    X_prim = np.concatenate((np.ones((1,m)),X),axis=0)\n",
    "    Z      = np.dot(W,X_prim)\n",
    "    A      = Sigmoid(Z)\n",
    "    \n",
    "    return A"
   ]
  },
  {
   "cell_type": "code",
   "execution_count": 144,
   "metadata": {},
   "outputs": [],
   "source": [
    "def Backward_Pass(A,Y,X):\n",
    "    m     = X.shape[1]\n",
    "    X_bar = np.concatenate((np.ones((1,m)),X),axis = 0)    \n",
    "    dW    = np.dot((A-Y),X_bar.T)/m\n",
    "    return dW"
   ]
  },
  {
   "cell_type": "code",
   "execution_count": 145,
   "metadata": {},
   "outputs": [
    {
     "name": "stdout",
     "output_type": "stream",
     "text": [
      "dW test :[[1.45557814e-03 9.98456015e-01 2.39507239e+00]]\n",
      "J_test :[5.80154532]\n"
     ]
    }
   ],
   "source": [
    "#w, b, X, Y = np.array([[1.],[2.]]), 2., np.array([[1.,2.,-1.],[3.,4.,-3.2]]), np.array([[1,0,1]])\n",
    "#grads, cost = propagate(w, b, X, Y)\n",
    "\n",
    "W_test2 = np.array([[2.],[1.],[2.]]).T\n",
    "X_test2 = np.array([[1.,2.,-1.],[3.,4.,-3.2]])\n",
    "Y_test2 = np.array([[1,0,1]])\n",
    "\n",
    "A_test2   = Forward_Pass(W_test2,X_test2)\n",
    "dW_test2  = Backward_Pass(A_test2,Y_test2,X_test2)\n",
    "\n",
    "\n",
    "print(\"dW test :\" + str(dW_test2))\n",
    "\n",
    "J_test2   = Compute_cost(Y_test2,A_test2)\n",
    "\n",
    "print(\"J_test :\" + str(J_test2))\n"
   ]
  },
  {
   "cell_type": "code",
   "execution_count": 150,
   "metadata": {},
   "outputs": [
    {
     "data": {
      "text/plain": [
       "array([[1., 1., 0.]])"
      ]
     },
     "execution_count": 150,
     "metadata": {},
     "output_type": "execute_result"
    }
   ],
   "source": [
    "# predictions verify\n",
    "\n",
    "w_a = np.array([[-.3],[0.1124579],[0.23106775]]).T\n",
    "X_a = np.array([[1.,-1.1,-3.2],[1.2,2.,0.1]])\n",
    "np.round(Forward_Pass(w_a,X_a))\n"
   ]
  },
  {
   "cell_type": "code",
   "execution_count": 153,
   "metadata": {},
   "outputs": [],
   "source": [
    "def Model_logistic_regression(Num_iterations,alpha,X_train,Y_train,X_test,Y_test):\n",
    "    \n",
    "    W = Init_parameters(X_train,Y_train)\n",
    "    costs       = []\n",
    "    iterations  = []\n",
    "    for num_it in range(Num_iterations): \n",
    "        A  = Forward_Pass(W,X_train)\n",
    "        dW = Backward_Pass(A,Y_train,X_train) \n",
    "        W  = Update_parameters(W,dW,alpha)\n",
    "    \n",
    "    \n",
    "        if ((num_it%100) == 0): \n",
    "            J = Compute_cost(Y_train,A)\n",
    "            print(\"Cost after the \"+ str(num_it) + \"  (th) iteration :\" + str(J))\n",
    "            iterations.append(num_it)\n",
    "            costs.append(J)\n",
    "    \n",
    "    #Predictions/accuracy on train and test\n",
    "    \n",
    "    A          = Forward_Pass(W,X_train)\n",
    "    Pred_train = np.round(A)\n",
    "    Acc_train  = 100 - 100*np.mean(np.abs(Pred_train - Y_train))\n",
    "\n",
    "    \n",
    "    A_test     = Forward_Pass(W,X_test)\n",
    "    Pred_test  = np.round(A_test)\n",
    "    Acc_test   = 100 - 100*np.mean(np.abs(Pred_test - Y_test))\n",
    "    \n",
    "    \n",
    "    d = {}\n",
    "    d[\"Costs\"]          = costs\n",
    "    d[\"Iterations\"]     = iterations\n",
    "    d[\"W\"]              = W\n",
    "    d[\"Accuracy_train\"] = Acc_train\n",
    "    d[\"Accuracy_test\"]  = Acc_test\n",
    "    \n",
    "    \n",
    "    print(\"Accuracy train : \" + str(Acc_train))\n",
    "    print(\"Accuracy test: \" + str(Acc_test))\n",
    "\n",
    "    return d"
   ]
  },
  {
   "cell_type": "code",
   "execution_count": 158,
   "metadata": {},
   "outputs": [
    {
     "name": "stdout",
     "output_type": "stream",
     "text": [
      "Cost after the 0  (th) iteration :[0.69314718]\n",
      "Cost after the 100  (th) iteration :[2.43391042]\n",
      "Cost after the 200  (th) iteration :[2.01657345]\n",
      "Cost after the 300  (th) iteration :[1.72770733]\n",
      "Cost after the 400  (th) iteration :[1.36300584]\n",
      "Cost after the 500  (th) iteration :[1.14410094]\n",
      "Cost after the 600  (th) iteration :[1.05906604]\n",
      "Cost after the 700  (th) iteration :[0.99139027]\n",
      "Cost after the 800  (th) iteration :[0.93496767]\n",
      "Cost after the 900  (th) iteration :[0.88573386]\n",
      "Cost after the 1000  (th) iteration :[0.84125913]\n",
      "Cost after the 1100  (th) iteration :[0.80016223]\n",
      "Cost after the 1200  (th) iteration :[0.76165912]\n",
      "Cost after the 1300  (th) iteration :[0.72528345]\n",
      "Cost after the 1400  (th) iteration :[0.69073321]\n",
      "Cost after the 1500  (th) iteration :[0.65779305]\n",
      "Cost after the 1600  (th) iteration :[0.6262967]\n",
      "Cost after the 1700  (th) iteration :[0.59610913]\n",
      "Cost after the 1800  (th) iteration :[0.56711786]\n",
      "Cost after the 1900  (th) iteration :[0.53922846]\n",
      "Cost after the 2000  (th) iteration :[0.51236153]\n",
      "Cost after the 2100  (th) iteration :[0.48645033]\n",
      "Cost after the 2200  (th) iteration :[0.4614385]\n",
      "Cost after the 2300  (th) iteration :[0.43727794]\n",
      "Cost after the 2400  (th) iteration :[0.41392674]\n",
      "Cost after the 2500  (th) iteration :[0.39134727]\n",
      "Cost after the 2600  (th) iteration :[0.36950452]\n",
      "Cost after the 2700  (th) iteration :[0.34836475]\n",
      "Cost after the 2800  (th) iteration :[0.32789472]\n",
      "Cost after the 2900  (th) iteration :[0.30806173]\n",
      "Cost after the 3000  (th) iteration :[0.28883513]\n",
      "Cost after the 3100  (th) iteration :[0.27019053]\n",
      "Cost after the 3200  (th) iteration :[0.25211993]\n",
      "Cost after the 3300  (th) iteration :[0.23465718]\n",
      "Cost after the 3400  (th) iteration :[0.21794665]\n",
      "Cost after the 3500  (th) iteration :[0.20243379]\n",
      "Cost after the 3600  (th) iteration :[0.18929495]\n",
      "Cost after the 3700  (th) iteration :[0.18050188]\n",
      "Cost after the 3800  (th) iteration :[0.17611739]\n",
      "Cost after the 3900  (th) iteration :[0.17328881]\n",
      "Cost after the 4000  (th) iteration :[0.17068179]\n",
      "Cost after the 4100  (th) iteration :[0.16817658]\n",
      "Cost after the 4200  (th) iteration :[0.16576162]\n",
      "Cost after the 4300  (th) iteration :[0.16342876]\n",
      "Cost after the 4400  (th) iteration :[0.16117126]\n",
      "Cost after the 4500  (th) iteration :[0.15898343]\n",
      "Cost after the 4600  (th) iteration :[0.15686044]\n",
      "Cost after the 4700  (th) iteration :[0.15479808]\n",
      "Cost after the 4800  (th) iteration :[0.15279272]\n",
      "Cost after the 4900  (th) iteration :[0.15084113]\n",
      "Accuracy train : 99.04306220095694\n",
      "Accuracy test: 34.0\n"
     ]
    },
    {
     "data": {
      "image/png": "[encoded data removed]",
      "text/plain": [
       "<Figure size 432x288 with 1 Axes>"
      ]
     },
     "metadata": {
      "needs_background": "light"
     },
     "output_type": "display_data"
    }
   ],
   "source": [
    "Num_iterations = 5000\n",
    "alpha          = 0.008\n",
    "d = Model_logistic_regression(Num_iterations,alpha,X_train,Y_train,X_test,Y_test)\n",
    "\n",
    "\n",
    "\n",
    "fig, ax = plt.subplots()\n",
    "ax.plot(d[\"Iterations\"], d[\"Costs\"])\n",
    "\n",
    "ax.set(xlabel='Epoc', ylabel='Cost',\n",
    "       title='Cats vs Non Cats ')\n",
    "ax.grid()   \n",
    "    "
   ]
  },
  {
   "cell_type": "code",
   "execution_count": 152,
   "metadata": {},
   "outputs": [
    {
     "data": {
      "text/plain": [
       "{'Costs': [],\n",
       " 'Iterations': [],\n",
       " 'W': array([[-0.00039317,  0.00136813, -0.00026341, ...,  0.        ,\n",
       "          0.        ,  0.        ]]),\n",
       " 'Accuracy_train': 91.38755980861244,\n",
       " 'Accuracy_test': 34.0}"
      ]
     },
     "execution_count": 152,
     "metadata": {},
     "output_type": "execute_result"
    }
   ],
   "source": [
    "d"
   ]
  },
  {
   "cell_type": "code",
   "execution_count": null,
   "metadata": {},
   "outputs": [],
   "source": []
  },
  {
   "cell_type": "code",
   "execution_count": null,
   "metadata": {},
   "outputs": [],
   "source": []
  }
 ],
 "metadata": {
  "kernelspec": {
   "display_name": "Python 3",
   "language": "python",
   "name": "python3"
  },
  "language_info": {
   "codemirror_mode": {
    "name": "ipython",
    "version": 3
   },
   "file_extension": ".py",
   "mimetype": "text/x-python",
   "name": "python",
   "nbconvert_exporter": "python",
   "pygments_lexer": "ipython3",
   "version": "3.7.6"
  }
 },
 "nbformat": 4,
 "nbformat_minor": 4
}
