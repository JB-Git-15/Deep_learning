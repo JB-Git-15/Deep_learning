{
 "cells": [
  {
   "cell_type": "markdown",
   "metadata": {},
   "source": [
    "Own implementation of cat vs non cats challenge  (12/2020)"
   ]
  },
  {
   "cell_type": "code",
   "execution_count": 5,
   "metadata": {},
   "outputs": [],
   "source": [
    "import numpy as np\n",
    "import matplotlib.pyplot as plt\n",
    "import h5py\n",
    "import scipy\n",
    "from PIL import Image\n",
    "from scipy import ndimage\n",
    "#from lr_utils import load_dataset\n",
    "\n",
    "from sklearn.linear_model import LogisticRegressionCV\n",
    "\n",
    "\n",
    "%matplotlib inline\n",
    "np.random.seed(1)"
   ]
  },
  {
   "cell_type": "code",
   "execution_count": 6,
   "metadata": {},
   "outputs": [],
   "source": [
    "def load_dataset():\n",
    "    train_dataset = h5py.File('datasets/train_catvnoncat.h5', \"r\")\n",
    "    train_set_x_orig = np.array(train_dataset[\"train_set_x\"][:]) # your train set features\n",
    "    train_set_y_orig = np.array(train_dataset[\"train_set_y\"][:]) # your train set labels\n",
    "\n",
    "    test_dataset = h5py.File('datasets/test_catvnoncat.h5', \"r\")\n",
    "    test_set_x_orig = np.array(test_dataset[\"test_set_x\"][:]) # your test set features\n",
    "    test_set_y_orig = np.array(test_dataset[\"test_set_y\"][:]) # your test set labels\n",
    "\n",
    "    classes = np.array(test_dataset[\"list_classes\"][:]) # the list of classes\n",
    "    \n",
    "    train_set_y_orig = train_set_y_orig.reshape((1, train_set_y_orig.shape[0]))\n",
    "    test_set_y_orig = test_set_y_orig.reshape((1, test_set_y_orig.shape[0]))\n",
    "    \n",
    "    return train_set_x_orig, train_set_y_orig, test_set_x_orig, test_set_y_orig, classes"
   ]
  },
  {
   "cell_type": "code",
   "execution_count": 7,
   "metadata": {},
   "outputs": [],
   "source": [
    "train_set_x_orig, train_set_y_orig, test_set_x_orig, test_set_y_orig, classes = load_dataset()"
   ]
  },
  {
   "cell_type": "code",
   "execution_count": 8,
   "metadata": {},
   "outputs": [
    {
     "data": {
      "text/plain": [
       "0.66"
      ]
     },
     "execution_count": 8,
     "metadata": {},
     "output_type": "execute_result"
    }
   ],
   "source": [
    "# majority class prediction\n",
    "\n",
    "# if predict all ones : 34 % of ones in the training set\n",
    "np.sum(train_set_y_orig)/train_set_y_orig.size\n",
    "\n",
    "# if predict all ones : 66 % of ones in the test set\n",
    "np.sum(test_set_y_orig)/test_set_y_orig.size"
   ]
  },
  {
   "cell_type": "code",
   "execution_count": 9,
   "metadata": {},
   "outputs": [],
   "source": [
    "m =  train_set_x_orig.shape[0] # pictures training set"
   ]
  },
  {
   "cell_type": "code",
   "execution_count": 10,
   "metadata": {},
   "outputs": [],
   "source": [
    "# reshape and normalize the data\n",
    "X_train = np.reshape(train_set_x_orig, (train_set_x_orig.shape[1]*train_set_x_orig.shape[2]*train_set_x_orig.shape[3],-1))\n",
    "Y_train = train_set_y_orig\n",
    "X_train = X_train/255\n",
    "m1      = X_train.shape[1]\n",
    "\n",
    "X_test  = np.reshape(test_set_x_orig,(test_set_x_orig.shape[1]*test_set_x_orig.shape[2]*test_set_x_orig.shape[3],-1))\n",
    "X_test  = X_test/255\n",
    "m2      = X_test.shape[1]\n",
    "\n",
    "Y_test  = test_set_y_orig"
   ]
  },
  {
   "cell_type": "code",
   "execution_count": 11,
   "metadata": {},
   "outputs": [
    {
     "name": "stdout",
     "output_type": "stream",
     "text": [
      "Logistic regression gives an accuracy of 34.0 %\n"
     ]
    }
   ],
   "source": [
    "####### Essayer régression logistique\n",
    "\n",
    "clf = LogisticRegressionCV(random_state=3, max_iter = 3000).fit(X_train.T, np.ravel(Y_train))\n",
    "Prediction = clf.predict(X_test.T)\n",
    "\n",
    "print(\"Logistic regression gives an accuracy of \" + str(100- np.mean(np.abs(Prediction - Y_test))*100) + \" %\")\n"
   ]
  },
  {
   "cell_type": "code",
   "execution_count": 12,
   "metadata": {},
   "outputs": [],
   "source": [
    "def ReLu(x):\n",
    "    return np.maximum(0,x)"
   ]
  },
  {
   "cell_type": "code",
   "execution_count": 13,
   "metadata": {},
   "outputs": [],
   "source": [
    "def ReLu_prime(z):\n",
    "    return (z>0)*1.0"
   ]
  },
  {
   "cell_type": "code",
   "execution_count": 14,
   "metadata": {},
   "outputs": [],
   "source": [
    "def Sigmoid(z):\n",
    "    return 1/(1+np.exp(-z))"
   ]
  },
  {
   "cell_type": "code",
   "execution_count": 15,
   "metadata": {},
   "outputs": [],
   "source": [
    "def Sigmoid_prime(z):\n",
    "    return Sigmoid(z)*(1-Sigmoid(z))"
   ]
  },
  {
   "cell_type": "code",
   "execution_count": 16,
   "metadata": {},
   "outputs": [],
   "source": [
    "def Init_parameters(X,y,L,Num_units_in_hidden_layers):\n",
    "    \n",
    "    m                          = X.shape[1]   # examples \n",
    "    Num_units_in_hidden_layers = np.reshape(Num_units_in_hidden_layers,(Num_units_in_hidden_layers.size,-1))\n",
    "    \n",
    "    if (Num_units_in_hidden_layers.size != (L-1)):\n",
    "        print('The number of units in the hidden layer are not consistent with the number of layers')\n",
    "    else:\n",
    "        print('Initializing the parameters for a network with ' + str(L-1) + ' hidden layers')\n",
    "        print('Number of units in hidden layers : ' + str(Num_units_in_hidden_layers.T))\n",
    "\n",
    "    \n",
    "    Num_u            = np.ones((L+1,1))    \n",
    "    Num_u[0]         = X.shape[0]\n",
    "    Num_u[-1]        = 1\n",
    "    Num_u[1:-1]      = Num_units_in_hidden_layers\n",
    "                \n",
    "    W_weights        = {}\n",
    "    B_biases         = {}\n",
    "\n",
    "    for u in range(L):\n",
    "        W_weights[\"W_\" + str(int(u+1))] =  np.random.randn(int(Num_u[u+1]),int(Num_u[u])) / np.sqrt(Num_u[u])\n",
    "        B_biases[\"B_\" + str(int(u+1))]  =  np.zeros((int(Num_u[u+1]),1)) \n",
    "        \n",
    "    A_activations    = {}  # activation functions    \n",
    "    for u in range(L+1):    \n",
    "        if u == 0:\n",
    "            A_activations[\"A_0\"] = X\n",
    "        else:    \n",
    "            A_activations[\"A_\" + str(int(u))]  = np.zeros((int(Num_u[int(u)]),m))\n",
    "    \n",
    "    Z_scores         = {} #scores                \n",
    "    for u in range(1,L+1):\n",
    "            Z_scores[\"Z_\" + str(int(u))]       = np.zeros((int(Num_u[int(u)]),m))\n",
    "          \n",
    "    G_non_lin            = {}\n",
    "    G_non_lin_derivative = {}\n",
    "    for u in range(L):    \n",
    "        if u != (L-1):\n",
    "            G_non_lin[\"g_\" + str(int(u+1))] = ReLu\n",
    "            G_non_lin_derivative[\"g'_\" + str(int(u+1))] = ReLu_prime\n",
    "        else:\n",
    "            G_non_lin[\"g_\" + str(int(u+1))] = Sigmoid\n",
    "            G_non_lin_derivative[\"g'_\" + str(int(u+1))] = Sigmoid_prime\n",
    "\n",
    "   \n",
    "    return W_weights,B_biases, Z_scores, A_activations, G_non_lin, G_non_lin_derivative"
   ]
  },
  {
   "cell_type": "code",
   "execution_count": 17,
   "metadata": {},
   "outputs": [
    {
     "name": "stdout",
     "output_type": "stream",
     "text": [
      "Initializing the parameters for a network with 2 hidden layers\n",
      "Number of units in hidden layers : [[5 6]]\n"
     ]
    }
   ],
   "source": [
    "L = 3\n",
    "W_weights,B_biases,Z_scores,A_activations,G_non_lin,G_non_lin_derivative = Init_parameters(X_train,Y_train,L,np.array([[5],[6]]))\n",
    "\n"
   ]
  },
  {
   "cell_type": "code",
   "execution_count": 18,
   "metadata": {},
   "outputs": [],
   "source": [
    "def Compute_cost(A_s,Y,L):\n",
    "    m      = Y.size\n",
    "    A_end  = A_s[\"A_\"+str(L)]\n",
    "    J      = np.sum(-(1-Y)*np.log(1-A_end)-Y*np.log(A_end))/m # compute \n",
    "    return J"
   ]
  },
  {
   "cell_type": "code",
   "execution_count": 19,
   "metadata": {},
   "outputs": [],
   "source": [
    "#A_activations[\"A_3\"] = Sigmoid(.9*Y_train +  np.random.rand(1,209)*.001)\n",
    "#Compute_cost(A_activations,Y_train,L)"
   ]
  },
  {
   "cell_type": "code",
   "execution_count": 20,
   "metadata": {},
   "outputs": [
    {
     "name": "stdout",
     "output_type": "stream",
     "text": [
      "(12288, 209)\n",
      "(5, 12288)\n"
     ]
    }
   ],
   "source": [
    "print(A_activations[\"A_0\"].shape)\n",
    "print(W_weights[\"W_1\"].shape)"
   ]
  },
  {
   "cell_type": "code",
   "execution_count": 21,
   "metadata": {},
   "outputs": [],
   "source": [
    "def Forward_pass(L, W_weights,B_biases, Z_scores, A_activations,G_non_lin):\n",
    "\n",
    "    for u in range(L):\n",
    "        Z_scores[\"Z_\" + str(int(u+1))]      = np.dot(W_weights[\"W_\" + str(int(u+1))],A_activations[\"A_\" + str(int(u))]) + B_biases[\"B_\" + str(int(u+1))]\n",
    "        A_activations[\"A_\" + str(int(1+u))] = G_non_lin[\"g_\"+ str(int(u+1))](Z_scores[\"Z_\" + str(int(u+1))])\n",
    "    \n",
    "    return A_activations,Z_scores"
   ]
  },
  {
   "cell_type": "code",
   "execution_count": 22,
   "metadata": {},
   "outputs": [],
   "source": [
    "def Back_propagation(A_activations,W_weights,Z_scores,Y,L,G_non_lin_derivative):\n",
    "    \n",
    "    m                    = Y.size\n",
    "    A_end                = A_activations[\"A_\"+str(L)]\n",
    "    Delta_activations_dA = {}\n",
    "    Delta_scores_dZ      = {}\n",
    "    dW_s                 = {}\n",
    "    dB_s                 = {}\n",
    "    Delta_activations_dA[\"dA_\"+ str(int(L))]   = -np.divide(Y,A_end)  +  np.divide(1-Y,1-A_end)\n",
    "  \n",
    "       \n",
    "    for u in range(L,0,-1):    \n",
    "        Delta_scores_dZ[\"dZ_\"+ str(int(u))]            =  Delta_activations_dA[\"dA_\" + str(int(u))]*G_non_lin_derivative[\"g'_\" + str(int(u))](Z_scores[\"Z_\" + str(int(u))]) \n",
    "        dW_s[\"dW_\"+ str(int(u))]                       =  np.dot(Delta_scores_dZ[\"dZ_\"+ str(int(u))],A_activations[\"A_\"+str(u-1)].T)/m\n",
    "        dB_s[\"dB_\"+ str(int(u))]                       =  np.sum(Delta_scores_dZ[\"dZ_\"+ str(int(u))],axis = 1,keepdims = True)/m\n",
    "        Delta_activations_dA[\"dA_\" + str(int(u-1))]    =  np.dot(W_weights[\"W_\" + str(int(u))].T,Delta_scores_dZ[\"dZ_\"+ str(int(u))]) \n",
    " \n",
    "                         \n",
    "    return dW_s,dB_s"
   ]
  },
  {
   "cell_type": "code",
   "execution_count": 23,
   "metadata": {},
   "outputs": [],
   "source": [
    "def Update_parameters(Weigth_matrices,dW_s,B_biases,dB_s,Learning_rate):\n",
    "    for u in range(1,len(Weigth_matrices)):      \n",
    "        Weigth_matrices[\"W_\"+str(u)] =  Weigth_matrices[\"W_\"+str(u)]  - Learning_rate*dW_s[\"dW_\"+ str(u)]\n",
    "        B_biases[\"B_\"+str(u)]        =  B_biases[\"B_\"+str(u)]  - Learning_rate*dB_s[\"dB_\"+ str(u)]\n",
    "  \n",
    "    return Weigth_matrices,B_biases"
   ]
  },
  {
   "cell_type": "code",
   "execution_count": 24,
   "metadata": {},
   "outputs": [],
   "source": [
    "def Modele_Deep_network(X_train, Y_train, X_test, Y_test, Learning_rate, Num_iterations, L, Num_units_in_hidden_layers):\n",
    "    \n",
    "    W_weights,B_biases, Z_scores, A_activations, G_non_lin,G_non_lin_derivative = Init_parameters(X_train,Y_train,L,Num_units_in_hidden_layers)\n",
    "             \n",
    "    Cost_list      = [] \n",
    "    Iteration_list = [] \n",
    "    for num_iter in range(Num_iterations+1):\n",
    "            A_activations,Z_scores = Forward_pass(L, W_weights,B_biases, Z_scores, A_activations,G_non_lin)\n",
    "            dW_s,dB_s              = Back_propagation(A_activations,W_weights,Z_scores,Y_train,L,G_non_lin_derivative) \n",
    "            W_weights, B_biases    = Update_parameters(W_weights,dW_s,B_biases,dB_s,Learning_rate)\n",
    "        \n",
    "            if (num_iter%50 == 0):\n",
    "                Cost = Compute_cost(A_activations,Y_train,L)\n",
    "                print(\"Cost after the \"+ str(num_iter) +\"(st) iteration : \" + str(Cost)) \n",
    "                Cost_list.append(Cost) \n",
    "                Iteration_list.append(num_iter)\n",
    "    \n",
    "    #Accuracy on the train set\n",
    "    Preds_train = np.round(A_activations[\"A_\"+str(L)])\n",
    "    print(\"Accuracy on the train set : \" + str(100- np.mean(np.absolute(Preds_train - Y_train))*100))\n",
    "\n",
    "    #Accuracy on the test set\n",
    "    W_weights2,B_biases2, Z_scores2, A_activations2, G_non_lin,G_non_lin_derivative  = Init_parameters(X_test,Y_test,L,Num_units_in_hidden_layers)\n",
    "    A_activations2,x = Forward_pass(L, W_weights2,B_biases2, Z_scores2, A_activations2,G_non_lin)\n",
    "    Preds_test       = np.round(A_activations2[\"A_\"+str(L)])\n",
    "    print(\"Accuracy on the test set : \" + str(np.mean((Preds_test == Y_test))*100))\n",
    "       \n",
    "    d = {}\n",
    "    d['W'] = W_weights\n",
    "    d['B'] = B_biases\n",
    "    d['Acc train set'] = Preds_train\n",
    "    d['Acc test set']  = Preds_test\n",
    "    d['Cost'] = Cost_list\n",
    "    d['Iteration'] = Iteration_list\n",
    "        \n",
    "    print(Preds_train)    \n",
    "    print(Preds_test)    \n",
    "    \n",
    "    return d"
   ]
  },
  {
   "cell_type": "code",
   "execution_count": 30,
   "metadata": {},
   "outputs": [
    {
     "name": "stdout",
     "output_type": "stream",
     "text": [
      "Initializing the parameters for a network with 2 hidden layers\n",
      "Number of units in hidden layers : [[20 10]]\n",
      "Cost after the 0(st) iteration : 0.790715664168443\n",
      "Cost after the 50(st) iteration : 0.6584788009731215\n",
      "Cost after the 100(st) iteration : 0.6436679924719897\n",
      "Cost after the 150(st) iteration : 0.6377977812880209\n",
      "Cost after the 200(st) iteration : 0.6328198748698797\n",
      "Cost after the 250(st) iteration : 0.6280232607167069\n",
      "Cost after the 300(st) iteration : 0.6234886322308884\n",
      "Cost after the 350(st) iteration : 0.6195599548456595\n",
      "Cost after the 400(st) iteration : 0.6160851125878277\n",
      "Cost after the 450(st) iteration : 0.612861196614648\n",
      "Cost after the 500(st) iteration : 0.609790553983561\n",
      "Cost after the 550(st) iteration : 0.6068915615360523\n",
      "Cost after the 600(st) iteration : 0.6037857757045847\n",
      "Cost after the 650(st) iteration : 0.6009225125731451\n",
      "Cost after the 700(st) iteration : 0.5982135339080641\n",
      "Cost after the 750(st) iteration : 0.595687654663926\n",
      "Cost after the 800(st) iteration : 0.5932836037170188\n",
      "Cost after the 850(st) iteration : 0.5909339417220406\n",
      "Cost after the 900(st) iteration : 0.5886443293701066\n",
      "Cost after the 950(st) iteration : 0.5863981124114861\n",
      "Cost after the 1000(st) iteration : 0.5841777807824652\n",
      "Cost after the 1050(st) iteration : 0.582007920326555\n",
      "Cost after the 1100(st) iteration : 0.5798502895583116\n",
      "Cost after the 1150(st) iteration : 0.5777191286882798\n",
      "Cost after the 1200(st) iteration : 0.5756082366836001\n",
      "Cost after the 1250(st) iteration : 0.5735107841143957\n",
      "Cost after the 1300(st) iteration : 0.5714213522179985\n",
      "Cost after the 1350(st) iteration : 0.5693451353152753\n",
      "Cost after the 1400(st) iteration : 0.5672611771611308\n",
      "Cost after the 1450(st) iteration : 0.5651846381753933\n",
      "Cost after the 1500(st) iteration : 0.5631074123639536\n",
      "Cost after the 1550(st) iteration : 0.5610324598028082\n",
      "Cost after the 1600(st) iteration : 0.5589619078031085\n",
      "Cost after the 1650(st) iteration : 0.5569079647455262\n",
      "Cost after the 1700(st) iteration : 0.5548697326223685\n",
      "Cost after the 1750(st) iteration : 0.5528316073363303\n",
      "Cost after the 1800(st) iteration : 0.5507931378146349\n",
      "Cost after the 1850(st) iteration : 0.5487421652594007\n",
      "Cost after the 1900(st) iteration : 0.5467041889844235\n",
      "Cost after the 1950(st) iteration : 0.544682529590943\n",
      "Cost after the 2000(st) iteration : 0.542655842626138\n",
      "Cost after the 2050(st) iteration : 0.5406296330978696\n",
      "Cost after the 2100(st) iteration : 0.5386106519877832\n",
      "Cost after the 2150(st) iteration : 0.5365884645890021\n",
      "Cost after the 2200(st) iteration : 0.5345846191549632\n",
      "Cost after the 2250(st) iteration : 0.5325787133369438\n",
      "Cost after the 2300(st) iteration : 0.5305348731783721\n",
      "Cost after the 2350(st) iteration : 0.52848357061497\n",
      "Cost after the 2400(st) iteration : 0.5264336032026504\n",
      "Cost after the 2450(st) iteration : 0.524414282115192\n",
      "Cost after the 2500(st) iteration : 0.5223931263609534\n",
      "Cost after the 2550(st) iteration : 0.520388804893272\n",
      "Cost after the 2600(st) iteration : 0.5183606513518833\n",
      "Cost after the 2650(st) iteration : 0.5163486112836948\n",
      "Cost after the 2700(st) iteration : 0.5143392264788248\n",
      "Cost after the 2750(st) iteration : 0.5123081750351487\n",
      "Cost after the 2800(st) iteration : 0.5102941381007204\n",
      "Cost after the 2850(st) iteration : 0.5082606775230263\n",
      "Cost after the 2900(st) iteration : 0.5062328603266639\n",
      "Cost after the 2950(st) iteration : 0.5041780874660923\n",
      "Cost after the 3000(st) iteration : 0.5021394420767544\n",
      "Cost after the 3050(st) iteration : 0.5001057992688742\n",
      "Cost after the 3100(st) iteration : 0.49808457171377046\n",
      "Cost after the 3150(st) iteration : 0.4960466671689011\n",
      "Cost after the 3200(st) iteration : 0.4939776634133557\n",
      "Cost after the 3250(st) iteration : 0.4919293114899664\n",
      "Cost after the 3300(st) iteration : 0.48987572693907805\n",
      "Cost after the 3350(st) iteration : 0.48782062529414394\n",
      "Cost after the 3400(st) iteration : 0.4857597101633528\n",
      "Cost after the 3450(st) iteration : 0.48373165506204874\n",
      "Cost after the 3500(st) iteration : 0.4816495323786635\n",
      "Cost after the 3550(st) iteration : 0.47957996297850713\n",
      "Cost after the 3600(st) iteration : 0.4774694136045771\n",
      "Cost after the 3650(st) iteration : 0.4753879998946064\n",
      "Cost after the 3700(st) iteration : 0.47328533403585604\n",
      "Cost after the 3750(st) iteration : 0.4711836206155106\n",
      "Cost after the 3800(st) iteration : 0.4690831444280417\n",
      "Cost after the 3850(st) iteration : 0.46700053246133727\n",
      "Cost after the 3900(st) iteration : 0.4648689130153694\n",
      "Cost after the 3950(st) iteration : 0.4627567546738745\n",
      "Cost after the 4000(st) iteration : 0.46060605055314224\n",
      "Cost after the 4050(st) iteration : 0.45849005410867383\n",
      "Cost after the 4100(st) iteration : 0.456332860615238\n",
      "Cost after the 4150(st) iteration : 0.4541576231776619\n",
      "Cost after the 4200(st) iteration : 0.4519513114886256\n",
      "Cost after the 4250(st) iteration : 0.4497382687908995\n",
      "Cost after the 4300(st) iteration : 0.44745707797090967\n",
      "Cost after the 4350(st) iteration : 0.44517248336436743\n",
      "Cost after the 4400(st) iteration : 0.4429109140950418\n",
      "Cost after the 4450(st) iteration : 0.4405979661242623\n",
      "Cost after the 4500(st) iteration : 0.43831270304368386\n",
      "Cost after the 4550(st) iteration : 0.43601492302914996\n",
      "Cost after the 4600(st) iteration : 0.433730202056243\n",
      "Cost after the 4650(st) iteration : 0.4314030818987295\n",
      "Cost after the 4700(st) iteration : 0.429095557982269\n",
      "Cost after the 4750(st) iteration : 0.42677761649905516\n",
      "Cost after the 4800(st) iteration : 0.4244571268475653\n",
      "Cost after the 4850(st) iteration : 0.42214684121092866\n",
      "Cost after the 4900(st) iteration : 0.41983507384466184\n",
      "Cost after the 4950(st) iteration : 0.41753124800314545\n",
      "Cost after the 5000(st) iteration : 0.41523450494435016\n",
      "Cost after the 5050(st) iteration : 0.4129145574015264\n",
      "Cost after the 5100(st) iteration : 0.4106282966348823\n",
      "Cost after the 5150(st) iteration : 0.4082993829674838\n",
      "Cost after the 5200(st) iteration : 0.4059902370686815\n",
      "Cost after the 5250(st) iteration : 0.4036787510745791\n",
      "Cost after the 5300(st) iteration : 0.4014077746100126\n",
      "Cost after the 5350(st) iteration : 0.39912218772827235\n",
      "Cost after the 5400(st) iteration : 0.3967971791671852\n",
      "Cost after the 5450(st) iteration : 0.39451156509140745\n",
      "Cost after the 5500(st) iteration : 0.39222021107267646\n",
      "Cost after the 5550(st) iteration : 0.38994539247013726\n",
      "Cost after the 5600(st) iteration : 0.3876563140144184\n",
      "Cost after the 5650(st) iteration : 0.38534801734262863\n",
      "Cost after the 5700(st) iteration : 0.3830689908700602\n",
      "Cost after the 5750(st) iteration : 0.380795814210307\n",
      "Cost after the 5800(st) iteration : 0.37851218944218623\n",
      "Cost after the 5850(st) iteration : 0.37620239449849713\n",
      "Cost after the 5900(st) iteration : 0.37393176056752975\n",
      "Cost after the 5950(st) iteration : 0.37166026738825786\n",
      "Cost after the 6000(st) iteration : 0.36939524563597614\n",
      "Accuracy on the train set : 84.21052631578948\n",
      "Initializing the parameters for a network with 2 hidden layers\n",
      "Number of units in hidden layers : [[20 10]]\n",
      "Accuracy on the test set : 66.0\n",
      "[[1. 1. 1. 1. 1. 1. 1. 1. 1. 1. 1. 1. 1. 1. 1. 1. 1. 1. 1. 1. 1. 1. 1. 1.\n",
      "  1. 1. 1. 1. 1. 1. 1. 1. 1. 1. 1. 1. 1. 1. 1. 1. 1. 1. 1. 1. 1. 1. 1. 1.\n",
      "  1. 1.]]\n"
     ]
    },
    {
     "data": {
      "image/png": "[encoded data removed]",
      "text/plain": [
       "<Figure size 432x288 with 1 Axes>"
      ]
     },
     "metadata": {
      "needs_background": "light"
     },
     "output_type": "display_data"
    }
   ],
   "source": [
    "# try the model on with a one hidden layer\n",
    "Learning_rate  = 0.002\n",
    "Num_iterations = 6000\n",
    "L              = 3 # L-1 hidden layers\n",
    "Num_units_in_hidden_layers = np.array([[20],[10]])\n",
    "\n",
    "d1 = Modele_Deep_network(X_train, Y_train, X_test, Y_test, Learning_rate, Num_iterations, L, Num_units_in_hidden_layers)\n",
    "    \n",
    "\n",
    "fig, ax = plt.subplots()\n",
    "ax.plot(d1[\"Iteration\"], d1[\"Cost\"])\n",
    "\n",
    "ax.set(xlabel='Epoc', ylabel='Cost',\n",
    "       title='Cats vs Non Cats ')\n",
    "ax.grid()   \n",
    "    "
   ]
  },
  {
   "cell_type": "code",
   "execution_count": null,
   "metadata": {},
   "outputs": [],
   "source": []
  },
  {
   "cell_type": "code",
   "execution_count": null,
   "metadata": {},
   "outputs": [],
   "source": []
  },
  {
   "cell_type": "code",
   "execution_count": null,
   "metadata": {},
   "outputs": [],
   "source": []
  }
 ],
 "metadata": {
  "kernelspec": {
   "display_name": "Python 3",
   "language": "python",
   "name": "python3"
  },
  "language_info": {
   "codemirror_mode": {
    "name": "ipython",
    "version": 3
   },
   "file_extension": ".py",
   "mimetype": "text/x-python",
   "name": "python",
   "nbconvert_exporter": "python",
   "pygments_lexer": "ipython3",
   "version": "3.7.6"
  }
 },
 "nbformat": 4,
 "nbformat_minor": 4
}
