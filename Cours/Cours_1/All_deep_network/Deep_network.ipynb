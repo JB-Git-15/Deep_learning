{
 "cells": [
  {
   "cell_type": "markdown",
   "metadata": {},
   "source": [
    "Own implementation of cat vs non cats challenge  (12/2020)"
   ]
  },
  {
   "cell_type": "code",
   "execution_count": 5,
   "metadata": {},
   "outputs": [],
   "source": [
    "import numpy as np\n",
    "import matplotlib.pyplot as plt\n",
    "import h5py\n",
    "import scipy\n",
    "from PIL import Image\n",
    "from scipy import ndimage\n",
    "#from lr_utils import load_dataset\n",
    "\n",
    "from sklearn.linear_model import LogisticRegressionCV\n",
    "\n",
    "\n",
    "%matplotlib inline\n",
    "np.random.seed(1)"
   ]
  },
  {
   "cell_type": "code",
   "execution_count": 6,
   "metadata": {},
   "outputs": [],
   "source": [
    "def load_dataset():\n",
    "    train_dataset = h5py.File('datasets/train_catvnoncat.h5', \"r\")\n",
    "    train_set_x_orig = np.array(train_dataset[\"train_set_x\"][:]) # your train set features\n",
    "    train_set_y_orig = np.array(train_dataset[\"train_set_y\"][:]) # your train set labels\n",
    "\n",
    "    test_dataset = h5py.File('datasets/test_catvnoncat.h5', \"r\")\n",
    "    test_set_x_orig = np.array(test_dataset[\"test_set_x\"][:]) # your test set features\n",
    "    test_set_y_orig = np.array(test_dataset[\"test_set_y\"][:]) # your test set labels\n",
    "\n",
    "    classes = np.array(test_dataset[\"list_classes\"][:]) # the list of classes\n",
    "    \n",
    "    train_set_y_orig = train_set_y_orig.reshape((1, train_set_y_orig.shape[0]))\n",
    "    test_set_y_orig = test_set_y_orig.reshape((1, test_set_y_orig.shape[0]))\n",
    "    \n",
    "    return train_set_x_orig, train_set_y_orig, test_set_x_orig, test_set_y_orig, classes"
   ]
  },
  {
   "cell_type": "code",
   "execution_count": 7,
   "metadata": {},
   "outputs": [],
   "source": [
    "train_set_x_orig, train_set_y_orig, test_set_x_orig, test_set_y_orig, classes = load_dataset()"
   ]
  },
  {
   "cell_type": "code",
   "execution_count": 8,
   "metadata": {},
   "outputs": [
    {
     "data": {
      "text/plain": [
       "0.66"
      ]
     },
     "execution_count": 8,
     "metadata": {},
     "output_type": "execute_result"
    }
   ],
   "source": [
    "# majority class prediction\n",
    "\n",
    "# if predict all ones : 34 % of ones in the training set\n",
    "np.sum(train_set_y_orig)/train_set_y_orig.size\n",
    "\n",
    "# if predict all ones : 66 % of ones in the test set\n",
    "np.sum(test_set_y_orig)/test_set_y_orig.size"
   ]
  },
  {
   "cell_type": "code",
   "execution_count": 9,
   "metadata": {},
   "outputs": [],
   "source": [
    "m =  train_set_x_orig.shape[0] # pictures training set"
   ]
  },
  {
   "cell_type": "code",
   "execution_count": 10,
   "metadata": {},
   "outputs": [],
   "source": [
    "# reshape and normalize the data\n",
    "X_train = np.reshape(train_set_x_orig, (train_set_x_orig.shape[1]*train_set_x_orig.shape[2]*train_set_x_orig.shape[3],-1))\n",
    "Y_train = train_set_y_orig\n",
    "X_train = X_train/255\n",
    "m1      = X_train.shape[1]\n",
    "\n",
    "X_test  = np.reshape(test_set_x_orig,(test_set_x_orig.shape[1]*test_set_x_orig.shape[2]*test_set_x_orig.shape[3],-1))\n",
    "X_test  = X_test/255\n",
    "m2      = X_test.shape[1]\n",
    "\n",
    "Y_test  = test_set_y_orig"
   ]
  },
  {
   "cell_type": "code",
   "execution_count": 11,
   "metadata": {},
   "outputs": [
    {
     "name": "stdout",
     "output_type": "stream",
     "text": [
      "Logistic regression gives an accuracy of 34.0 %\n"
     ]
    }
   ],
   "source": [
    "####### Essayer régression logistique\n",
    "\n",
    "clf = LogisticRegressionCV(random_state=3, max_iter = 3000).fit(X_train.T, np.ravel(Y_train))\n",
    "Prediction = clf.predict(X_test.T)\n",
    "\n",
    "print(\"Logistic regression gives an accuracy of \" + str(100- np.mean(np.abs(Prediction - Y_test))*100) + \" %\")\n"
   ]
  },
  {
   "cell_type": "code",
   "execution_count": 12,
   "metadata": {},
   "outputs": [],
   "source": [
    "def ReLu(x):\n",
    "    return np.maximum(0,x)"
   ]
  },
  {
   "cell_type": "code",
   "execution_count": 13,
   "metadata": {},
   "outputs": [],
   "source": [
    "def ReLu_prime(z):\n",
    "    return (z>0)*1.0"
   ]
  },
  {
   "cell_type": "code",
   "execution_count": 14,
   "metadata": {},
   "outputs": [],
   "source": [
    "def Sigmoid(z):\n",
    "    return 1/(1+np.exp(-z))"
   ]
  },
  {
   "cell_type": "code",
   "execution_count": 15,
   "metadata": {},
   "outputs": [],
   "source": [
    "def Sigmoid_prime(z):\n",
    "    return Sigmoid(z)*(1-Sigmoid(z))"
   ]
  },
  {
   "cell_type": "code",
   "execution_count": 16,
   "metadata": {},
   "outputs": [],
   "source": [
    "def Init_parameters(X,y,L,Num_units_in_hidden_layers):\n",
    "    \n",
    "    m                          = X.shape[1]   # examples \n",
    "    Num_units_in_hidden_layers = np.reshape(Num_units_in_hidden_layers,(Num_units_in_hidden_layers.size,-1))\n",
    "    \n",
    "    if (Num_units_in_hidden_layers.size != (L-1)):\n",
    "        print('The number of units in the hidden layer are not consistent with the number of layers')\n",
    "    else:\n",
    "        print('Initializing the parameters for a network with ' + str(L-1) + ' hidden layers')\n",
    "        print('Number of units in hidden layers : ' + str(Num_units_in_hidden_layers.T))\n",
    "\n",
    "    \n",
    "    Num_u            = np.ones((L+1,1))    \n",
    "    Num_u[0]         = X.shape[0]\n",
    "    Num_u[-1]        = 1\n",
    "    Num_u[1:-1]      = Num_units_in_hidden_layers\n",
    "                \n",
    "    W_weights        = {}\n",
    "    B_biases         = {}\n",
    "\n",
    "    for u in range(L):\n",
    "        W_weights[\"W_\" + str(int(u+1))] =  np.random.randn(int(Num_u[u+1]),int(Num_u[u])) / np.sqrt(Num_u[u])\n",
    "        B_biases[\"B_\" + str(int(u+1))]  =  np.zeros((int(Num_u[u+1]),1)) \n",
    "        \n",
    "    A_activations    = {}  # activation functions    \n",
    "    for u in range(L+1):    \n",
    "        if u == 0:\n",
    "            A_activations[\"A_0\"] = X\n",
    "        else:    \n",
    "            A_activations[\"A_\" + str(int(u))]  = np.zeros((int(Num_u[int(u)]),m))\n",
    "    \n",
    "    Z_scores         = {} #scores                \n",
    "    for u in range(1,L+1):\n",
    "            Z_scores[\"Z_\" + str(int(u))]       = np.zeros((int(Num_u[int(u)]),m))\n",
    "          \n",
    "    G_non_lin            = {}\n",
    "    G_non_lin_derivative = {}\n",
    "    for u in range(L):    \n",
    "        if u != (L-1):\n",
    "            G_non_lin[\"g_\" + str(int(u+1))] = ReLu\n",
    "            G_non_lin_derivative[\"g'_\" + str(int(u+1))] = ReLu_prime\n",
    "        else:\n",
    "            G_non_lin[\"g_\" + str(int(u+1))] = Sigmoid\n",
    "            G_non_lin_derivative[\"g'_\" + str(int(u+1))] = Sigmoid_prime\n",
    "\n",
    "   \n",
    "    return W_weights,B_biases, Z_scores, A_activations, G_non_lin, G_non_lin_derivative"
   ]
  },
  {
   "cell_type": "code",
   "execution_count": 17,
   "metadata": {},
   "outputs": [
    {
     "name": "stdout",
     "output_type": "stream",
     "text": [
      "Initializing the parameters for a network with 2 hidden layers\n",
      "Number of units in hidden layers : [[5 6]]\n"
     ]
    }
   ],
   "source": [
    "L = 3\n",
    "W_weights,B_biases,Z_scores,A_activations,G_non_lin,G_non_lin_derivative = Init_parameters(X_train,Y_train,L,np.array([[5],[6]]))\n",
    "\n"
   ]
  },
  {
   "cell_type": "code",
   "execution_count": 18,
   "metadata": {},
   "outputs": [],
   "source": [
    "def Compute_cost(A_s,Y,L):\n",
    "    m      = Y.size\n",
    "    A_end  = A_s[\"A_\"+str(L)]\n",
    "    J      = np.sum(-(1-Y)*np.log(1-A_end)-Y*np.log(A_end))/m # compute \n",
    "    return J"
   ]
  },
  {
   "cell_type": "code",
   "execution_count": 19,
   "metadata": {},
   "outputs": [],
   "source": [
    "#A_activations[\"A_3\"] = Sigmoid(.9*Y_train +  np.random.rand(1,209)*.001)\n",
    "#Compute_cost(A_activations,Y_train,L)"
   ]
  },
  {
   "cell_type": "code",
   "execution_count": 20,
   "metadata": {},
   "outputs": [
    {
     "name": "stdout",
     "output_type": "stream",
     "text": [
      "(12288, 209)\n",
      "(5, 12288)\n"
     ]
    }
   ],
   "source": [
    "print(A_activations[\"A_0\"].shape)\n",
    "print(W_weights[\"W_1\"].shape)"
   ]
  },
  {
   "cell_type": "code",
   "execution_count": 21,
   "metadata": {},
   "outputs": [],
   "source": [
    "def Forward_pass(L, W_weights,B_biases, Z_scores, A_activations,G_non_lin):\n",
    "\n",
    "    for u in range(L):\n",
    "        Z_scores[\"Z_\" + str(int(u+1))]      = np.dot(W_weights[\"W_\" + str(int(u+1))],A_activations[\"A_\" + str(int(u))]) + B_biases[\"B_\" + str(int(u+1))]\n",
    "        A_activations[\"A_\" + str(int(1+u))] = G_non_lin[\"g_\"+ str(int(u+1))](Z_scores[\"Z_\" + str(int(u+1))])\n",
    "    \n",
    "    return A_activations,Z_scores"
   ]
  },
  {
   "cell_type": "code",
   "execution_count": 22,
   "metadata": {},
   "outputs": [],
   "source": [
    "def Back_propagation(A_activations,W_weights,Z_scores,Y,L,G_non_lin_derivative):\n",
    "    \n",
    "    m                    = Y.size\n",
    "    A_end                = A_activations[\"A_\"+str(L)]\n",
    "    Delta_activations_dA = {}\n",
    "    Delta_scores_dZ      = {}\n",
    "    dW_s                 = {}\n",
    "    dB_s                 = {}\n",
    "    Delta_activations_dA[\"dA_\"+ str(int(L))]   = -np.divide(Y,A_end)  +  np.divide(1-Y,1-A_end)\n",
    "  \n",
    "       \n",
    "    for u in range(L,0,-1):    \n",
    "        Delta_scores_dZ[\"dZ_\"+ str(int(u))]            =  Delta_activations_dA[\"dA_\" + str(int(u))]*G_non_lin_derivative[\"g'_\" + str(int(u))](Z_scores[\"Z_\" + str(int(u))]) \n",
    "        dW_s[\"dW_\"+ str(int(u))]                       =  np.dot(Delta_scores_dZ[\"dZ_\"+ str(int(u))],A_activations[\"A_\"+str(u-1)].T)/m\n",
    "        dB_s[\"dB_\"+ str(int(u))]                       =  np.sum(Delta_scores_dZ[\"dZ_\"+ str(int(u))],axis = 1,keepdims = True)/m\n",
    "        Delta_activations_dA[\"dA_\" + str(int(u-1))]    =  np.dot(W_weights[\"W_\" + str(int(u))].T,Delta_scores_dZ[\"dZ_\"+ str(int(u))]) \n",
    " \n",
    "                         \n",
    "    return dW_s,dB_s"
   ]
  },
  {
   "cell_type": "code",
   "execution_count": 23,
   "metadata": {},
   "outputs": [],
   "source": [
    "def Update_parameters(Weigth_matrices,dW_s,B_biases,dB_s,Learning_rate):\n",
    "    for u in range(1,len(Weigth_matrices)):      \n",
    "        Weigth_matrices[\"W_\"+str(u)] =  Weigth_matrices[\"W_\"+str(u)]  - Learning_rate*dW_s[\"dW_\"+ str(u)]\n",
    "        B_biases[\"B_\"+str(u)]        =  B_biases[\"B_\"+str(u)]  - Learning_rate*dB_s[\"dB_\"+ str(u)]\n",
    "  \n",
    "    return Weigth_matrices,B_biases"
   ]
  },
  {
   "cell_type": "code",
   "execution_count": 24,
   "metadata": {},
   "outputs": [],
   "source": [
    "def Modele_Deep_network(X_train, Y_train, X_test, Y_test, Learning_rate, Num_iterations, L, Num_units_in_hidden_layers):\n",
    "    \n",
    "    W_weights,B_biases, Z_scores, A_activations, G_non_lin,G_non_lin_derivative = Init_parameters(X_train,Y_train,L,Num_units_in_hidden_layers)\n",
    "             \n",
    "    Cost_list      = [] \n",
    "    Iteration_list = [] \n",
    "    for num_iter in range(Num_iterations+1):\n",
    "            A_activations,Z_scores = Forward_pass(L, W_weights,B_biases, Z_scores, A_activations,G_non_lin)\n",
    "            dW_s,dB_s              = Back_propagation(A_activations,W_weights,Z_scores,Y_train,L,G_non_lin_derivative) \n",
    "            W_weights, B_biases    = Update_parameters(W_weights,dW_s,B_biases,dB_s,Learning_rate)\n",
    "        \n",
    "            if (num_iter%50 == 0):\n",
    "                Cost = Compute_cost(A_activations,Y_train,L)\n",
    "                print(\"Cost after the \"+ str(num_iter) +\"(st) iteration : \" + str(Cost)) \n",
    "                Cost_list.append(Cost) \n",
    "                Iteration_list.append(num_iter)\n",
    "    \n",
    "    #Accuracy on the train set\n",
    "    Preds_train = np.round(A_activations[\"A_\"+str(L)])\n",
    "    print(\"Accuracy on the train set : \" + str(100- np.mean(np.absolute(Preds_train - Y_train))*100))\n",
    "\n",
    "    #Accuracy on the test set\n",
    "    W_weights2,B_biases2, Z_scores2, A_activations2, G_non_lin,G_non_lin_derivative  = Init_parameters(X_test,Y_test,L,Num_units_in_hidden_layers)\n",
    "    A_activations2,x = Forward_pass(L, W_weights2,B_biases2, Z_scores2, A_activations2,G_non_lin)\n",
    "    Preds_test       = np.round(A_activations2[\"A_\"+str(L)])\n",
    "    print(\"Accuracy on the test set : \" + str(np.mean((Preds_test == Y_test))*100))\n",
    "       \n",
    "    d = {}\n",
    "    d['W'] = W_weights\n",
    "    d['B'] = B_biases\n",
    "    d['Acc train set'] = Preds_train\n",
    "    d['Acc test set']  = Preds_test\n",
    "    d['Cost'] = Cost_list\n",
    "    d['Iteration'] = Iteration_list\n",
    "        \n",
    "    print(Preds_train)    \n",
    "    print(Preds_test)    \n",
    "    \n",
    "    return d"
   ]
  },
  {
   "cell_type": "code",
   "execution_count": 31,
   "metadata": {},
   "outputs": [
    {
     "name": "stdout",
     "output_type": "stream",
     "text": [
      "Initializing the parameters for a network with 2 hidden layers\n",
      "Number of units in hidden layers : [[20 10]]\n",
      "Cost after the 0(st) iteration : 0.6512524117997981\n",
      "Cost after the 50(st) iteration : 0.5937923997236819\n",
      "Cost after the 100(st) iteration : 0.5702793553907555\n",
      "Cost after the 150(st) iteration : 0.5505711766482887\n",
      "Cost after the 200(st) iteration : 0.5345562156146731\n",
      "Cost after the 250(st) iteration : 0.5217041498171608\n",
      "Cost after the 300(st) iteration : 0.5120691110079051\n",
      "Cost after the 350(st) iteration : 0.5018534610276619\n",
      "Cost after the 400(st) iteration : 0.4925559040050609\n",
      "Cost after the 450(st) iteration : 0.48141886378262994\n",
      "Cost after the 500(st) iteration : 0.47671691923633425\n",
      "Cost after the 550(st) iteration : 0.4682896814840153\n",
      "Cost after the 600(st) iteration : 0.4599982864590124\n",
      "Cost after the 650(st) iteration : 0.4487747761976952\n",
      "Cost after the 700(st) iteration : 0.44352094140188636\n",
      "Cost after the 750(st) iteration : 0.43682544438448273\n",
      "Cost after the 800(st) iteration : 0.431898226345836\n",
      "Cost after the 850(st) iteration : 0.42418045846389296\n",
      "Cost after the 900(st) iteration : 0.4224132772788566\n",
      "Cost after the 950(st) iteration : 0.4094096603620416\n",
      "Cost after the 1000(st) iteration : 0.41433426585450867\n",
      "Cost after the 1050(st) iteration : 0.40249748189481566\n",
      "Cost after the 1100(st) iteration : 0.408184755392913\n",
      "Cost after the 1150(st) iteration : 0.39244510290371853\n",
      "Cost after the 1200(st) iteration : 0.3909030358230094\n",
      "Cost after the 1250(st) iteration : 0.39580571077697746\n",
      "Cost after the 1300(st) iteration : 0.37824780596260965\n",
      "Cost after the 1350(st) iteration : 0.39192911055651125\n",
      "Cost after the 1400(st) iteration : 0.3839098871200878\n",
      "Cost after the 1450(st) iteration : 0.3700792566346251\n",
      "Cost after the 1500(st) iteration : 0.3796359348100089\n",
      "Cost after the 1550(st) iteration : 0.3686474216120877\n",
      "Cost after the 1600(st) iteration : 0.36142221730948404\n",
      "Cost after the 1650(st) iteration : 0.3696519377116263\n",
      "Cost after the 1700(st) iteration : 0.35386713017261984\n",
      "Cost after the 1750(st) iteration : 0.3565783589071185\n",
      "Cost after the 1800(st) iteration : 0.35889825213687604\n",
      "Cost after the 1850(st) iteration : 0.348331909774046\n",
      "Cost after the 1900(st) iteration : 0.34638994918624144\n",
      "Cost after the 1950(st) iteration : 0.33475609145053464\n",
      "Cost after the 2000(st) iteration : 0.3480664725540617\n",
      "Cost after the 2050(st) iteration : 0.3299537831933543\n",
      "Cost after the 2100(st) iteration : 0.342725060182436\n",
      "Cost after the 2150(st) iteration : 0.3238511674386667\n",
      "Cost after the 2200(st) iteration : 0.3254842220346703\n",
      "Cost after the 2250(st) iteration : 0.31953852893011697\n",
      "Cost after the 2300(st) iteration : 0.33399290818450855\n",
      "Cost after the 2350(st) iteration : 0.3081504365173384\n",
      "Cost after the 2400(st) iteration : 0.30607844407463497\n",
      "Cost after the 2450(st) iteration : 0.3171331022277539\n",
      "Cost after the 2500(st) iteration : 0.3059766321336389\n",
      "Cost after the 2550(st) iteration : 0.3018931461200863\n",
      "Cost after the 2600(st) iteration : 0.299051375568704\n",
      "Cost after the 2650(st) iteration : 0.2924019180305783\n",
      "Cost after the 2700(st) iteration : 0.28832408084115396\n",
      "Cost after the 2750(st) iteration : 0.3088330881917644\n",
      "Cost after the 2800(st) iteration : 0.2797536611713278\n",
      "Cost after the 2850(st) iteration : 0.2963150962827941\n",
      "Cost after the 2900(st) iteration : 0.2737176891066112\n",
      "Cost after the 2950(st) iteration : 0.2893125672022529\n",
      "Cost after the 3000(st) iteration : 0.2697270012290396\n",
      "Cost after the 3050(st) iteration : 0.2815401098313351\n",
      "Cost after the 3100(st) iteration : 0.2581560266968667\n",
      "Cost after the 3150(st) iteration : 0.2640589978310762\n",
      "Cost after the 3200(st) iteration : 0.2719088543831998\n",
      "Cost after the 3250(st) iteration : 0.2535362483459199\n",
      "Cost after the 3300(st) iteration : 0.26740018460166554\n",
      "Cost after the 3350(st) iteration : 0.24346053175153504\n",
      "Cost after the 3400(st) iteration : 0.277957437300462\n",
      "Cost after the 3450(st) iteration : 0.2326667610091444\n",
      "Cost after the 3500(st) iteration : 0.23379688388720715\n",
      "Cost after the 3550(st) iteration : 0.2708361125826002\n",
      "Cost after the 3600(st) iteration : 0.21788478421402147\n",
      "Cost after the 3650(st) iteration : 0.23719887970469122\n",
      "Cost after the 3700(st) iteration : 0.25437755419284624\n",
      "Cost after the 3750(st) iteration : 0.20739284248437947\n",
      "Cost after the 3800(st) iteration : 0.2189099993035019\n",
      "Cost after the 3850(st) iteration : 0.2577205975240365\n",
      "Cost after the 3900(st) iteration : 0.19575488764318896\n",
      "Cost after the 3950(st) iteration : 0.19420986447853206\n",
      "Cost after the 4000(st) iteration : 0.254568311352888\n",
      "Cost after the 4050(st) iteration : 0.2238411793245404\n",
      "Cost after the 4100(st) iteration : 0.17471331852155228\n",
      "Cost after the 4150(st) iteration : 0.17844786558987225\n",
      "Cost after the 4200(st) iteration : 0.24138105625563486\n",
      "Cost after the 4250(st) iteration : 0.22545985046330028\n",
      "Cost after the 4300(st) iteration : 0.16058565765584704\n",
      "Cost after the 4350(st) iteration : 0.16030392170286376\n",
      "Cost after the 4400(st) iteration : 0.17903316604921446\n",
      "Cost after the 4450(st) iteration : 0.2971305564459614\n",
      "Cost after the 4500(st) iteration : 0.18024742861157844\n",
      "Cost after the 4550(st) iteration : 0.14450298903776124\n",
      "Cost after the 4600(st) iteration : 0.14562131935901548\n",
      "Cost after the 4650(st) iteration : 0.14961575663591345\n",
      "Cost after the 4700(st) iteration : 0.16028765844163706\n",
      "Cost after the 4750(st) iteration : 0.16136434710556116\n",
      "Cost after the 4800(st) iteration : 0.15462259988096103\n",
      "Cost after the 4850(st) iteration : 0.15313433015064887\n",
      "Cost after the 4900(st) iteration : 0.15084310482563193\n",
      "Cost after the 4950(st) iteration : 0.21823514652228018\n",
      "Cost after the 5000(st) iteration : 0.2741614983892338\n",
      "Cost after the 5050(st) iteration : 0.12303781476032771\n",
      "Cost after the 5100(st) iteration : 0.12149787633228307\n",
      "Cost after the 5150(st) iteration : 0.12010047025086398\n",
      "Cost after the 5200(st) iteration : 0.11871183141232804\n",
      "Cost after the 5250(st) iteration : 0.11836671927280709\n",
      "Cost after the 5300(st) iteration : 0.11590135311130198\n",
      "Cost after the 5350(st) iteration : 0.11386207763091566\n",
      "Cost after the 5400(st) iteration : 0.11278049140625043\n",
      "Cost after the 5450(st) iteration : 0.11238762902271934\n",
      "Cost after the 5500(st) iteration : 0.10904475647206784\n",
      "Cost after the 5550(st) iteration : 0.10862761201245645\n",
      "Cost after the 5600(st) iteration : 0.10668380269383418\n",
      "Cost after the 5650(st) iteration : 0.10492551389628749\n",
      "Cost after the 5700(st) iteration : 0.10336198398669195\n",
      "Cost after the 5750(st) iteration : 0.10209265218816672\n",
      "Cost after the 5800(st) iteration : 0.10048888576016145\n",
      "Cost after the 5850(st) iteration : 0.09857139072226855\n",
      "Cost after the 5900(st) iteration : 0.09683652874174893\n",
      "Cost after the 5950(st) iteration : 0.09630905738375352\n",
      "Cost after the 6000(st) iteration : 0.09331112719401874\n",
      "Cost after the 6050(st) iteration : 0.09244398778573393\n",
      "Cost after the 6100(st) iteration : 0.09088593116537115\n",
      "Cost after the 6150(st) iteration : 0.08953932098020015\n",
      "Cost after the 6200(st) iteration : 0.08803948266755746\n",
      "Cost after the 6250(st) iteration : 0.08630233806554585\n",
      "Cost after the 6300(st) iteration : 0.08598874044079612\n",
      "Cost after the 6350(st) iteration : 0.08444142246639091\n",
      "Cost after the 6400(st) iteration : 0.08261430949545595\n",
      "Cost after the 6450(st) iteration : 0.08174024223997219\n",
      "Cost after the 6500(st) iteration : 0.0806977483647126\n",
      "Cost after the 6550(st) iteration : 0.07949562343601611\n",
      "Cost after the 6600(st) iteration : 0.07824000045634318\n",
      "Cost after the 6650(st) iteration : 0.07742759235065991\n",
      "Cost after the 6700(st) iteration : 0.07603430338776793\n",
      "Cost after the 6750(st) iteration : 0.07502135474896246\n",
      "Cost after the 6800(st) iteration : 0.07348515586338712\n",
      "Cost after the 6850(st) iteration : 0.07283356377277948\n",
      "Cost after the 6900(st) iteration : 0.07218882772061677\n",
      "Cost after the 6950(st) iteration : 0.07058801004654805\n",
      "Cost after the 7000(st) iteration : 0.07006191276061938\n",
      "Cost after the 7050(st) iteration : 0.06952569977746294\n",
      "Cost after the 7100(st) iteration : 0.06831012314517688\n",
      "Cost after the 7150(st) iteration : 0.06708442397786035\n",
      "Cost after the 7200(st) iteration : 0.06645668450855997\n",
      "Cost after the 7250(st) iteration : 0.06562041414278098\n"
     ]
    },
    {
     "name": "stdout",
     "output_type": "stream",
     "text": [
      "Cost after the 7300(st) iteration : 0.06473875883373419\n",
      "Cost after the 7350(st) iteration : 0.06401306855334692\n",
      "Cost after the 7400(st) iteration : 0.06291166846326414\n",
      "Cost after the 7450(st) iteration : 0.062213353058875785\n",
      "Cost after the 7500(st) iteration : 0.06163422692981785\n",
      "Cost after the 7550(st) iteration : 0.06083722723941468\n",
      "Cost after the 7600(st) iteration : 0.05990268709181158\n",
      "Cost after the 7650(st) iteration : 0.05944859603048854\n",
      "Cost after the 7700(st) iteration : 0.05847748315417149\n",
      "Cost after the 7750(st) iteration : 0.057751606181173164\n",
      "Cost after the 7800(st) iteration : 0.05722106254883722\n",
      "Cost after the 7850(st) iteration : 0.05643632521305065\n",
      "Cost after the 7900(st) iteration : 0.05581749997922615\n",
      "Cost after the 7950(st) iteration : 0.05525505848949399\n",
      "Cost after the 8000(st) iteration : 0.054661499400532006\n",
      "Cost after the 8050(st) iteration : 0.05397709014052014\n",
      "Cost after the 8100(st) iteration : 0.05333422724657605\n",
      "Cost after the 8150(st) iteration : 0.05268848501680795\n",
      "Cost after the 8200(st) iteration : 0.05217147301393139\n",
      "Cost after the 8250(st) iteration : 0.05138429853794415\n",
      "Cost after the 8300(st) iteration : 0.0507977598746247\n",
      "Cost after the 8350(st) iteration : 0.050354729771305395\n",
      "Cost after the 8400(st) iteration : 0.049664957733499424\n",
      "Cost after the 8450(st) iteration : 0.0492245507175905\n",
      "Cost after the 8500(st) iteration : 0.048720231987199145\n",
      "Cost after the 8550(st) iteration : 0.04819375870722798\n",
      "Cost after the 8600(st) iteration : 0.047670852149870234\n",
      "Cost after the 8650(st) iteration : 0.0470637913255379\n",
      "Cost after the 8700(st) iteration : 0.04677131292311814\n",
      "Cost after the 8750(st) iteration : 0.046112196442618505\n",
      "Cost after the 8800(st) iteration : 0.045544605969642715\n",
      "Cost after the 8850(st) iteration : 0.04508598471967597\n",
      "Cost after the 8900(st) iteration : 0.044594698713409146\n",
      "Cost after the 8950(st) iteration : 0.04414879814212653\n",
      "Cost after the 9000(st) iteration : 0.04372701439953947\n",
      "Cost after the 9050(st) iteration : 0.04332592707191492\n",
      "Cost after the 9100(st) iteration : 0.04292180645435122\n",
      "Cost after the 9150(st) iteration : 0.04236333684907088\n",
      "Cost after the 9200(st) iteration : 0.04192339547133178\n",
      "Cost after the 9250(st) iteration : 0.041577663990195676\n",
      "Cost after the 9300(st) iteration : 0.041147751447375196\n",
      "Cost after the 9350(st) iteration : 0.040689583321289226\n",
      "Cost after the 9400(st) iteration : 0.040295215169531086\n",
      "Cost after the 9450(st) iteration : 0.03987719775512015\n",
      "Cost after the 9500(st) iteration : 0.03950372060866822\n",
      "Cost after the 9550(st) iteration : 0.039139990748336816\n",
      "Cost after the 9600(st) iteration : 0.03880414185488846\n",
      "Cost after the 9650(st) iteration : 0.03850953637490979\n",
      "Cost after the 9700(st) iteration : 0.03803605201763074\n",
      "Cost after the 9750(st) iteration : 0.03766051403681215\n",
      "Cost after the 9800(st) iteration : 0.03729637086583135\n",
      "Cost after the 9850(st) iteration : 0.0369650342352838\n",
      "Cost after the 9900(st) iteration : 0.03661056439643254\n",
      "Cost after the 9950(st) iteration : 0.03627445441584857\n",
      "Cost after the 10000(st) iteration : 0.03592854553160766\n",
      "Accuracy on the train set : 100.0\n",
      "Initializing the parameters for a network with 2 hidden layers\n",
      "Number of units in hidden layers : [[20 10]]\n",
      "Accuracy on the test set : 62.0\n",
      "[[0. 1. 1. 1. 1. 1. 1. 1. 1. 1. 1. 1. 1. 1. 1. 1. 0. 0. 0. 1. 1. 1. 1. 1.\n",
      "  1. 1. 1. 1. 1. 1. 1. 1. 1. 1. 1. 1. 1. 1. 1. 1. 1. 1. 1. 1. 1. 1. 1. 1.\n",
      "  1. 1.]]\n"
     ]
    },
    {
     "data": {
      "image/png": "[encoded data removed]",
      "text/plain": [
       "<Figure size 432x288 with 1 Axes>"
      ]
     },
     "metadata": {
      "needs_background": "light"
     },
     "output_type": "display_data"
    }
   ],
   "source": [
    "# try the model on with a one hidden layer\n",
    "Learning_rate  = 0.0025\n",
    "Num_iterations = 10000\n",
    "L              = 3 # L-1 hidden layers\n",
    "Num_units_in_hidden_layers = np.array([[20],[10]])\n",
    "\n",
    "d1 = Modele_Deep_network(X_train, Y_train, X_test, Y_test, Learning_rate, Num_iterations, L, Num_units_in_hidden_layers)\n",
    "    \n",
    "\n",
    "fig, ax = plt.subplots()\n",
    "ax.plot(d1[\"Iteration\"], d1[\"Cost\"])\n",
    "\n",
    "ax.set(xlabel='Epoc', ylabel='Cost',\n",
    "       title='Cats vs Non Cats ')\n",
    "ax.grid()   \n",
    "    "
   ]
  },
  {
   "cell_type": "code",
   "execution_count": null,
   "metadata": {},
   "outputs": [],
   "source": []
  },
  {
   "cell_type": "code",
   "execution_count": null,
   "metadata": {},
   "outputs": [],
   "source": []
  },
  {
   "cell_type": "code",
   "execution_count": null,
   "metadata": {},
   "outputs": [],
   "source": []
  }
 ],
 "metadata": {
  "kernelspec": {
   "display_name": "Python 3",
   "language": "python",
   "name": "python3"
  },
  "language_info": {
   "codemirror_mode": {
    "name": "ipython",
    "version": 3
   },
   "file_extension": ".py",
   "mimetype": "text/x-python",
   "name": "python",
   "nbconvert_exporter": "python",
   "pygments_lexer": "ipython3",
   "version": "3.7.6"
  }
 },
 "nbformat": 4,
 "nbformat_minor": 4
}
